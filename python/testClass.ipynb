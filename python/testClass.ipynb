{
 "cells": [
  {
   "cell_type": "code",
   "execution_count": 67,
   "metadata": {},
   "outputs": [],
   "source": [
    "import numpy as np\n",
    "import tdadiag_vec as td\n",
    "from importlib import reload\n",
    "import matplotlib.pyplot as plt"
   ]
  },
  {
   "cell_type": "code",
   "execution_count": null,
   "metadata": {},
   "outputs": [],
   "source": [
    "X = np.loadtxt(\"../R/unitCircle.csv\", skiprows=1, delimiter=\",\")"
   ]
  },
  {
   "cell_type": "code",
   "execution_count": 101,
   "metadata": {},
   "outputs": [],
   "source": [
    "reload(td);\n",
    "TD = td.tdadiag_vect(X, threshold_=2)\n",
    "_ = TD.calcDiag(inf=2)\n"
   ]
  },
  {
   "cell_type": "code",
   "execution_count": 110,
   "metadata": {},
   "outputs": [],
   "source": [
    "test_dict = {\"ps\":TD.computePS, \"nl\":TD.computeNL, \"vab\":TD.computeVAB}\n",
    "def compareResults(R_prefix = None):\n",
    "    if R_prefix is not None:\n",
    "        print(f\"Comparing compute{R_prefix.upper()}:\")\n",
    "        func = test_dict[R_prefix]\n",
    "        for d in range(2):\n",
    "            pyth = func(homDim = d)\n",
    "            R = np.loadtxt(f\"../R/{R_prefix}_{d}.csv\", skiprows=1)\n",
    "            cond = np.allclose(pyth, R)\n",
    "            print(f\"\\t dim={d}: {cond}\")\n",
    "            assert cond\n",
    "    else:\n",
    "        for pr in test_dict.keys():\n",
    "            compareResults(pr)"
   ]
  },
  {
   "cell_type": "code",
   "execution_count": 111,
   "metadata": {},
   "outputs": [
    {
     "name": "stdout",
     "output_type": "stream",
     "text": [
      "Comparing computePS:\n",
      "\t dim=0: True\n",
      "\t dim=1: True\n",
      "Comparing computeNL:\n",
      "\t dim=0: True\n",
      "\t dim=1: True\n",
      "Comparing computeVAB:\n",
      "\t dim=0: True\n",
      "\t dim=1: True\n"
     ]
    }
   ],
   "source": [
    "compareResults()"
   ]
  }
 ],
 "metadata": {
  "kernelspec": {
   "display_name": ".venv",
   "language": "python",
   "name": "python3"
  },
  "language_info": {
   "codemirror_mode": {
    "name": "ipython",
    "version": 3
   },
   "file_extension": ".py",
   "mimetype": "text/x-python",
   "name": "python",
   "nbconvert_exporter": "python",
   "pygments_lexer": "ipython3",
   "version": "3.11.7"
  }
 },
 "nbformat": 4,
 "nbformat_minor": 2
}
