{
 "cells": [
  {
   "cell_type": "markdown",
   "metadata": {},
   "source": [
    "This notebook uses compiled version of the computeVPB function. To compile it run the command\n",
    "\n",
    "    python setup.py build_ext --inplace\n",
    "\n",
    "from the `python/` directory"
   ]
  },
  {
   "cell_type": "markdown",
   "metadata": {},
   "source": [
    "See https://cython.readthedocs.io/en/latest/src/tutorial/cython_tutorial.html for some basic tutorial"
   ]
  },
  {
   "cell_type": "code",
   "execution_count": 1,
   "metadata": {},
   "outputs": [],
   "source": [
    "import numpy as np\n",
    "import pandas as pd\n",
    "import matplotlib.pyplot as plt\n",
    "from matplotlib.patches import Rectangle\n",
    "import ripser\n",
    "import persim\n"
   ]
  },
  {
   "cell_type": "code",
   "execution_count": 2,
   "metadata": {},
   "outputs": [],
   "source": [
    "import TDAvec\n",
    "from TDAvec import DiagToPD, computeVPB, computePL"
   ]
  },
  {
   "cell_type": "code",
   "execution_count": 3,
   "metadata": {},
   "outputs": [],
   "source": [
    "X = np.loadtxt(\"../R/unitCircle.csv\", skiprows=1, delimiter=\",\")\n",
    "D = ripser.ripser(X, thresh=2)[\"dgms\"]\n",
    "D[0][-1, 1] = 2\n"
   ]
  },
  {
   "cell_type": "markdown",
   "metadata": {},
   "source": [
    "## computeVPV"
   ]
  },
  {
   "cell_type": "code",
   "execution_count": 8,
   "metadata": {},
   "outputs": [],
   "source": [
    "PD = DiagToPD(D)\n",
    "ySeqH0 = np.quantile(PD[0][1], np.arange(0, 1.1, 0.2))\n",
    "xSeqH1 = np.quantile(PD[1][0], np.arange(0, 1.1, 0.2))\n",
    "ySeqH1 = np.quantile(PD[1][1], np.arange(0, 1.1, 0.2))\n",
    "\n",
    "vpb0 = computeVPB(PD, homDim=0, xSeq=[], ySeq=ySeqH0)\n",
    "vpb1 = computeVPB(PD, homDim = 1, xSeq=xSeqH1, ySeq=ySeqH1)"
   ]
  },
  {
   "cell_type": "code",
   "execution_count": 9,
   "metadata": {},
   "outputs": [
    {
     "data": {
      "text/plain": [
       "True"
      ]
     },
     "execution_count": 9,
     "metadata": {},
     "output_type": "execute_result"
    }
   ],
   "source": [
    "np.allclose(vpb0, [0.809001, 3.644815, 5.486612, 6.382816, 1.013953])"
   ]
  },
  {
   "cell_type": "code",
   "execution_count": 27,
   "metadata": {},
   "outputs": [
    {
     "data": {
      "text/plain": [
       "True"
      ]
     },
     "execution_count": 27,
     "metadata": {},
     "output_type": "execute_result"
    }
   ],
   "source": [
    "vpb_ = np.transpose(vpb1).reshape( (25,))\n",
    "vpbR = [ 0.0000000000, 0.0004995598, 0.0090337733, 0.0305098818, 0.0057973687, 0.0095194496, 0.0261053157, 0.0203673036, 0.0042870130,\n",
    "        0.0107446149, 0.0425768331, 0.1053468321, 0.1458807241, 0.0000000000, 0.0000000000, 0.0328035481, 0.0276785592, 0.1089088594,\n",
    "        0.1318822254, 0.0168304895, 0.2939394561, 0.3162986126, 0.3344510989, 0.3567486932, 0.3636226941]\n",
    "max(abs(vpb_ - vpbR))\n",
    "np.allclose(vpb_,vpbR, atol = 1e-7)"
   ]
  },
  {
   "cell_type": "code",
   "execution_count": 31,
   "metadata": {},
   "outputs": [
    {
     "name": "stdout",
     "output_type": "stream",
     "text": [
      "True\n",
      "True\n"
     ]
    }
   ],
   "source": [
    "scaleSeq = np.linspace(0, 2, 11)\n",
    "print(np.allclose( computePL(D, 0, scaleSeq), [0.0, 0.2, 0.4, 0.6, 0.8, 1.0, 0.8, 0.6, 0.4, 0.2, 0.0]))\n",
    "print(np.allclose(computePL(D, 1, scaleSeq), [0.000000000, 0.014217630, 0.000931983, 0.191114536,\n",
    "                                         0.391114536, 0.269212150, 0.069212150,\n",
    "                                           0.000000000, 0.000000000, 0.000000000, 0.000000000]))"
   ]
  }
 ],
 "metadata": {
  "kernelspec": {
   "display_name": ".venv",
   "language": "python",
   "name": "python3"
  },
  "language_info": {
   "codemirror_mode": {
    "name": "ipython",
    "version": 3
   },
   "file_extension": ".py",
   "mimetype": "text/x-python",
   "name": "python",
   "nbconvert_exporter": "python",
   "pygments_lexer": "ipython3",
   "version": "3.11.7"
  }
 },
 "nbformat": 4,
 "nbformat_minor": 2
}
