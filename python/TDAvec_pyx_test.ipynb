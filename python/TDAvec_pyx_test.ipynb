{
 "cells": [
  {
   "cell_type": "markdown",
   "metadata": {},
   "source": [
    "This notebook uses compiled version of the computeVPB function. To compile it run the command\n",
    "\n",
    "    python setup.py build_ext --inplace\n",
    "\n",
    "from the `python/` directory"
   ]
  },
  {
   "cell_type": "markdown",
   "metadata": {},
   "source": [
    "See https://cython.readthedocs.io/en/latest/src/tutorial/cython_tutorial.html for some basic tutorial"
   ]
  },
  {
   "cell_type": "code",
   "execution_count": 60,
   "metadata": {},
   "outputs": [],
   "source": [
    "import numpy as np\n",
    "import pandas as pd\n",
    "import matplotlib.pyplot as plt\n",
    "from matplotlib.patches import Rectangle\n",
    "import ripser\n",
    "import persim\n"
   ]
  },
  {
   "cell_type": "code",
   "execution_count": 82,
   "metadata": {},
   "outputs": [],
   "source": [
    "import TDAvec\n",
    "from TDAvec import DiagToPD, computeVPB, computePL, pmin, pmax"
   ]
  },
  {
   "cell_type": "code",
   "execution_count": 63,
   "metadata": {},
   "outputs": [],
   "source": [
    "X = np.loadtxt(\"../R/unitCircle.csv\", skiprows=1, delimiter=\",\")\n",
    "D = ripser.ripser(X, thresh=2)[\"dgms\"]\n",
    "D[0][-1, 1] = 2\n"
   ]
  },
  {
   "cell_type": "code",
   "execution_count": 102,
   "metadata": {},
   "outputs": [
    {
     "data": {
      "text/plain": [
       "array([[0.44604498, 0.45960215],\n",
       "       [0.40888548, 1.26921213],\n",
       "       [0.34190655, 0.34717289],\n",
       "       [0.33821681, 0.34392914],\n",
       "       [0.33295313, 0.40093198],\n",
       "       [0.31678182, 0.32426977],\n",
       "       [0.28439489, 0.31077522],\n",
       "       [0.28343308, 0.3182652 ],\n",
       "       [0.26641014, 0.28822109],\n",
       "       [0.25644588, 0.25812981],\n",
       "       [0.20289682, 0.2271997 ],\n",
       "       [0.18578237, 0.28032514],\n",
       "       [0.14656922, 0.18919227]])"
      ]
     },
     "execution_count": 102,
     "metadata": {},
     "output_type": "execute_result"
    }
   ],
   "source": [
    "D[1]"
   ]
  },
  {
   "cell_type": "markdown",
   "metadata": {},
   "source": [
    "## computeVPB"
   ]
  },
  {
   "cell_type": "code",
   "execution_count": 88,
   "metadata": {},
   "outputs": [
    {
     "name": "stdout",
     "output_type": "stream",
     "text": [
      "True\n",
      "True\n"
     ]
    }
   ],
   "source": [
    "PD = DiagToPD(D)\n",
    "ySeqH0 = np.quantile(PD[0][1], np.arange(0, 1.1, 0.2))\n",
    "xSeqH1 = np.quantile(PD[1][0], np.arange(0, 1.1, 0.2))\n",
    "ySeqH1 = np.quantile(PD[1][1], np.arange(0, 1.1, 0.2))\n",
    "\n",
    "vpb0 = computeVPB(PD, homDim=0, xSeq=[], ySeq=ySeqH0)\n",
    "print(np.allclose(\n",
    "    vpb0, \n",
    "    np.loadtxt(\"../R/vpb_0.csv\", skiprows=1)\n",
    "    ))\n",
    "vpb1 = computeVPB(PD, homDim = 1, xSeq=xSeqH1, ySeq=ySeqH1)\n",
    "vpb1 = np.transpose(vpb1).reshape( (25,))\n",
    "print(np.allclose(\n",
    "    vpb1, \n",
    "    np.loadtxt(\"../R/vpb_1.csv\", skiprows=1)\n",
    "    , atol=1e-7))\n"
   ]
  },
  {
   "cell_type": "markdown",
   "metadata": {},
   "source": [
    "## complutePL"
   ]
  },
  {
   "cell_type": "code",
   "execution_count": 103,
   "metadata": {},
   "outputs": [
    {
     "name": "stdout",
     "output_type": "stream",
     "text": [
      "True\n",
      "True\n"
     ]
    }
   ],
   "source": [
    "scaleSeq = np.linspace(0, 2, 11)\n",
    "print(np.allclose( computePL(D, 0, scaleSeq), np.loadtxt(\"../R/pl_0.csv\", skiprows=1)))\n",
    "print(np.allclose(computePL(D, 1, scaleSeq), np.loadtxt(\"../R/pl_1.csv\", skiprows=1)))"
   ]
  },
  {
   "cell_type": "markdown",
   "metadata": {},
   "source": [
    "## computePS"
   ]
  },
  {
   "cell_type": "code",
   "execution_count": 104,
   "metadata": {},
   "outputs": [
    {
     "name": "stdout",
     "output_type": "stream",
     "text": [
      "0 True\n",
      "1 True\n"
     ]
    }
   ],
   "source": [
    "def computePS(D, homDim, scaleSeq, p=1):\n",
    "    x, y = D[homDim][:,0], D[homDim][:,1]\n",
    "    pp = (y-x)**p\n",
    "    w = pp/np.sum(pp)\n",
    "\n",
    "    phi = []\n",
    "    for k in range(len(scaleSeq)-1):\n",
    "        alpha1 = pmax(scaleSeq[k], x)\n",
    "        alpha2 = pmax(scaleSeq[k], (x+y)/2)\n",
    "        beta1 = pmin(scaleSeq[k+1], (x+y)/2)\n",
    "        beta2 = pmin(scaleSeq[k+1], y)\n",
    "        b1 = pmax(0,beta1-alpha1)*((beta1+alpha1)/2-x)\n",
    "        b2 = pmax(0,beta2-alpha2)*(y-(beta2+alpha2)/2)\n",
    "        phi.append( np.sum(w*(b1+b2))/(scaleSeq[k+1]-scaleSeq[k]))\n",
    "    return phi\n",
    "ps0 = computePS(D, 0, scaleSeq)\n",
    "ps0_R = np.loadtxt(\"../R/ps_0.csv\", skiprows=1)\n",
    "print(0,np.allclose(ps0, ps0_R))\n",
    "ps1 = computePS(D, 1, scaleSeq)\n",
    "ps1_R = np.loadtxt(\"../R/ps_1.csv\", skiprows=1)\n",
    "print(1,np.allclose(ps1, ps1_R))"
   ]
  }
 ],
 "metadata": {
  "kernelspec": {
   "display_name": ".venv",
   "language": "python",
   "name": "python3"
  },
  "language_info": {
   "codemirror_mode": {
    "name": "ipython",
    "version": 3
   },
   "file_extension": ".py",
   "mimetype": "text/x-python",
   "name": "python",
   "nbconvert_exporter": "python",
   "pygments_lexer": "ipython3",
   "version": "3.11.7"
  }
 },
 "nbformat": 4,
 "nbformat_minor": 2
}
