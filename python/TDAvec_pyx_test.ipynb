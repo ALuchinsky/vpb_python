{
 "cells": [
  {
   "cell_type": "markdown",
   "metadata": {},
   "source": [
    "This notebook uses compiled version of the computeVPB function. To compile it run the command\n",
    "\n",
    "    python setup.py build_ext --inplace\n",
    "\n",
    "from the `python/` directory"
   ]
  },
  {
   "cell_type": "markdown",
   "metadata": {},
   "source": [
    "See https://cython.readthedocs.io/en/latest/src/tutorial/cython_tutorial.html for some basic tutorial"
   ]
  },
  {
   "cell_type": "code",
   "execution_count": 32,
   "metadata": {},
   "outputs": [],
   "source": [
    "import numpy as np\n",
    "import pandas as pd\n",
    "import matplotlib.pyplot as plt\n",
    "from matplotlib.patches import Rectangle\n",
    "import ripser\n",
    "import persim\n"
   ]
  },
  {
   "cell_type": "code",
   "execution_count": 33,
   "metadata": {},
   "outputs": [],
   "source": [
    "import TDAvec\n",
    "from TDAvec import DiagToPD, computeVPB, computePL"
   ]
  },
  {
   "cell_type": "code",
   "execution_count": 34,
   "metadata": {},
   "outputs": [],
   "source": [
    "X = np.loadtxt(\"../R/unitCircle.csv\", skiprows=1, delimiter=\",\")\n",
    "D = ripser.ripser(X, thresh=2)[\"dgms\"]\n",
    "D[0][-1, 1] = 2\n"
   ]
  },
  {
   "cell_type": "markdown",
   "metadata": {},
   "source": [
    "## computeVPB"
   ]
  },
  {
   "cell_type": "code",
   "execution_count": null,
   "metadata": {},
   "outputs": [],
   "source": []
  },
  {
   "cell_type": "code",
   "execution_count": 54,
   "metadata": {},
   "outputs": [
    {
     "name": "stdout",
     "output_type": "stream",
     "text": [
      "True\n",
      "True\n"
     ]
    }
   ],
   "source": [
    "PD = DiagToPD(D)\n",
    "ySeqH0 = np.quantile(PD[0][1], np.arange(0, 1.1, 0.2))\n",
    "xSeqH1 = np.quantile(PD[1][0], np.arange(0, 1.1, 0.2))\n",
    "ySeqH1 = np.quantile(PD[1][1], np.arange(0, 1.1, 0.2))\n",
    "\n",
    "vpb0 = computeVPB(PD, homDim=0, xSeq=[], ySeq=ySeqH0)\n",
    "print(np.allclose(\n",
    "    vpb0, \n",
    "    np.loadtxt(\"../R/vpb_0.csv\", skiprows=1)\n",
    "    ))\n",
    "vpb1 = computeVPB(PD, homDim = 1, xSeq=xSeqH1, ySeq=ySeqH1)\n",
    "vpb1 = np.transpose(vpb1).reshape( (25,))\n",
    "print(np.allclose(\n",
    "    vpb1, \n",
    "    np.loadtxt(\"../R/vpb_1.csv\", skiprows=1)\n",
    "    , atol=1e-7))\n"
   ]
  },
  {
   "cell_type": "markdown",
   "metadata": {},
   "source": [
    "## complutePL"
   ]
  },
  {
   "cell_type": "code",
   "execution_count": 59,
   "metadata": {},
   "outputs": [
    {
     "name": "stdout",
     "output_type": "stream",
     "text": [
      "True\n",
      "True\n"
     ]
    }
   ],
   "source": [
    "scaleSeq = np.linspace(0, 2, 11)\n",
    "print(np.allclose( computePL(D, 0, scaleSeq), np.loadtxt(\"../R/pl_0.csv\", skiprows=1)))\n",
    "print(np.allclose(computePL(D, 1, scaleSeq), np.loadtxt(\"../R/pl_1.csv\", skiprows=1)))"
   ]
  }
 ],
 "metadata": {
  "kernelspec": {
   "display_name": ".venv",
   "language": "python",
   "name": "python3"
  },
  "language_info": {
   "codemirror_mode": {
    "name": "ipython",
    "version": 3
   },
   "file_extension": ".py",
   "mimetype": "text/x-python",
   "name": "python",
   "nbconvert_exporter": "python",
   "pygments_lexer": "ipython3",
   "version": "3.11.7"
  }
 },
 "nbformat": 4,
 "nbformat_minor": 2
}
