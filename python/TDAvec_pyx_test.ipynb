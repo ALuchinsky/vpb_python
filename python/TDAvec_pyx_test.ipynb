{
 "cells": [
  {
   "cell_type": "markdown",
   "metadata": {},
   "source": [
    "This notebook uses compiled version of the computeVPB function. To compile it run the command\n",
    "\n",
    "    python setup.py build_ext --inplace\n",
    "\n",
    "from the `python/` directory"
   ]
  },
  {
   "cell_type": "markdown",
   "metadata": {},
   "source": [
    "See https://cython.readthedocs.io/en/latest/src/tutorial/cython_tutorial.html for some basic tutorial"
   ]
  },
  {
   "cell_type": "code",
   "execution_count": 11,
   "metadata": {},
   "outputs": [],
   "source": [
    "import numpy as np\n",
    "import pandas as pd\n",
    "import matplotlib.pyplot as plt\n",
    "from matplotlib.patches import Rectangle\n",
    "import ripser\n",
    "import persim\n",
    "import importlib\n"
   ]
  },
  {
   "cell_type": "code",
   "execution_count": 25,
   "metadata": {},
   "outputs": [],
   "source": [
    "import TDAvec\n",
    "from TDAvec import pmin, pmax, DiagToPD, \\\n",
    "    computeVPB, computePL, computePS, computeNL, computeVAB, computeECC, computePES, computePI,\\\n",
    "    computeVPB_dim0, computeVPB_dim1\n",
    "    "
   ]
  },
  {
   "cell_type": "code",
   "execution_count": 13,
   "metadata": {},
   "outputs": [
    {
     "data": {
      "text/plain": [
       "<module 'TDAvec' from '/Users/alekseiluchinsky/Work/STUDY/Thesis/VPB_Python/python/TDAvec.cpython-311-darwin.so'>"
      ]
     },
     "execution_count": 13,
     "metadata": {},
     "output_type": "execute_result"
    }
   ],
   "source": [
    "importlib.reload(TDAvec)\n"
   ]
  },
  {
   "cell_type": "code",
   "execution_count": 14,
   "metadata": {},
   "outputs": [],
   "source": [
    "X = np.loadtxt(\"../R/unitCircle.csv\", skiprows=1, delimiter=\",\")\n",
    "D = ripser.ripser(X, thresh=2)[\"dgms\"]\n",
    "D[0][-1, 1] = 2\n"
   ]
  },
  {
   "cell_type": "code",
   "execution_count": 15,
   "metadata": {},
   "outputs": [],
   "source": [
    "importlib.reload(TDAvec);"
   ]
  },
  {
   "cell_type": "markdown",
   "metadata": {},
   "source": [
    "## computeVPB"
   ]
  },
  {
   "cell_type": "code",
   "execution_count": 47,
   "metadata": {},
   "outputs": [
    {
     "data": {
      "text/plain": [
       "array([0.80900108, 3.64481538, 5.48661209, 6.38281627, 1.0139525 ])"
      ]
     },
     "execution_count": 47,
     "metadata": {},
     "output_type": "execute_result"
    }
   ],
   "source": [
    "vpb0"
   ]
  },
  {
   "cell_type": "code",
   "execution_count": 46,
   "metadata": {},
   "outputs": [
    {
     "name": "stdout",
     "output_type": "stream",
     "text": [
      "True\n",
      "True\n"
     ]
    }
   ],
   "source": [
    "PD = DiagToPD(D)\n",
    "ySeqH0 = np.quantile(PD[0][:,1], np.arange(0, 1.1, 0.2))\n",
    "vpb0 = computeVPB(PD, homDim=0, xSeq = [], ySeq = ySeqH0)\n",
    "print(np.allclose(\n",
    "    vpb0, \n",
    "    np.loadtxt(\"../R/vpb_0.csv\", skiprows=1)\n",
    "    , atol=1e-7))\n",
    "\n",
    "\n",
    "xSeqH1 = np.quantile(PD[1][:,0], np.arange(0, 1.1, 0.2))\n",
    "ySeqH1 = np.quantile(PD[1][:,1], np.arange(0, 1.1, 0.2))\n",
    "\n",
    "vpb1 = computeVPB(PD, homDim = 1, xSeq=xSeqH1, ySeq=ySeqH1)\n",
    "vpb1 = np.transpose(vpb1).reshape( (25,))\n",
    "print(np.allclose(\n",
    "    vpb1, \n",
    "    np.loadtxt(\"../R/vpb_1.csv\", skiprows=1)\n",
    "    , atol=1e-7))\n"
   ]
  },
  {
   "cell_type": "code",
   "execution_count": 64,
   "metadata": {},
   "outputs": [
    {
     "data": {
      "text/plain": [
       "array([0.00168392, 0.00642258, 0.02016019, 0.02807069, 0.05783653,\n",
       "       0.86032665])"
      ]
     },
     "execution_count": 64,
     "metadata": {},
     "output_type": "execute_result"
    }
   ],
   "source": [
    "ySeqH1"
   ]
  },
  {
   "cell_type": "code",
   "execution_count": 51,
   "metadata": {},
   "outputs": [
    {
     "data": {
      "text/plain": [
       "array([0.        , 0.00049954, 0.00903382, 0.03050973, 0.00579736,\n",
       "       0.00951945, 0.02610533, 0.02036727, 0.00428711, 0.0107446 ,\n",
       "       0.04257685, 0.10534681, 0.14588074, 0.        , 0.        ,\n",
       "       0.03280356, 0.02767857, 0.10890892, 0.13188222, 0.01683049,\n",
       "       0.29393937, 0.3162986 , 0.3344511 , 0.35674869, 0.36362269])"
      ]
     },
     "execution_count": 51,
     "metadata": {},
     "output_type": "execute_result"
    }
   ],
   "source": [
    "vpb1"
   ]
  },
  {
   "cell_type": "code",
   "execution_count": 50,
   "metadata": {},
   "outputs": [
    {
     "data": {
      "text/plain": [
       "array([[0.        , 0.00951945, 0.04257685, 0.03280356, 0.29393937],\n",
       "       [0.00049954, 0.02610533, 0.10534681, 0.02767857, 0.3162986 ],\n",
       "       [0.00903382, 0.02036727, 0.14588074, 0.10890892, 0.3344511 ],\n",
       "       [0.03050973, 0.00428711, 0.        , 0.13188222, 0.35674869],\n",
       "       [0.00579736, 0.0107446 , 0.        , 0.01683049, 0.36362269]])"
      ]
     },
     "execution_count": 50,
     "metadata": {},
     "output_type": "execute_result"
    }
   ],
   "source": [
    "computeVPB(PD, homDim = 1, xSeq=xSeqH1, ySeq=ySeqH1)"
   ]
  },
  {
   "cell_type": "code",
   "execution_count": 37,
   "metadata": {},
   "outputs": [
    {
     "data": {
      "text/plain": [
       "array([0.80900108, 3.64481538, 5.48661209, 6.38281627, 1.0139525 ])"
      ]
     },
     "execution_count": 37,
     "metadata": {},
     "output_type": "execute_result"
    }
   ],
   "source": [
    "vpb0"
   ]
  },
  {
   "cell_type": "code",
   "execution_count": 36,
   "metadata": {},
   "outputs": [
    {
     "data": {
      "text/plain": [
       "True"
      ]
     },
     "execution_count": 36,
     "metadata": {},
     "output_type": "execute_result"
    }
   ],
   "source": [
    "x = PD[0][:,0]\n",
    "y = PD[0][:,1]\n",
    "tau = 0.3\n",
    "np.allclose(\n",
    "    computeVPB_dim0(x=PD[0][0,:], y=PD[0][:,1], ySeq = ySeqH0, lam = tau*y),\\\n",
    "    np.loadtxt(\"../R/vpb_0.csv\", skiprows=1)\n",
    ")"
   ]
  },
  {
   "cell_type": "code",
   "execution_count": 22,
   "metadata": {},
   "outputs": [
    {
     "data": {
      "text/plain": [
       "<cyfunction computeVPB at 0x1380f5ff0>"
      ]
     },
     "execution_count": 22,
     "metadata": {},
     "output_type": "execute_result"
    }
   ],
   "source": [
    "computeVPB"
   ]
  },
  {
   "cell_type": "markdown",
   "metadata": {},
   "source": [
    "## computePI"
   ]
  },
  {
   "cell_type": "code",
   "execution_count": 7,
   "metadata": {},
   "outputs": [
    {
     "name": "stdout",
     "output_type": "stream",
     "text": [
      "0 True\n",
      "1 True\n"
     ]
    }
   ],
   "source": [
    "resB, resP = 5, 5\n",
    "#\n",
    "minPH0, maxPH0 = np.min(PD[0][:,1]), np.max(PD[0][:,1])\n",
    "ySeqH0 = np.linspace(minPH0, maxPH0, resP+1)\n",
    "xSeqH0 = np.zeros( resB+1)\n",
    "\n",
    "minBH1, maxBH1 = np.min(PD[1][:,0]), np.max(PD[1][:,0])\n",
    "xSeqH1 = np.linspace(minBH1, maxBH1, resB+1)\n",
    "minPH1, maxPH1 = np.min(PD[1][:,1]), np.max(PD[1][:,1])\n",
    "ySeqH1 = np.linspace(minPH1, maxPH1, resP+1)\n",
    "\n",
    "sigma = 0.5*(maxPH0-minPH0)/resP\n",
    "pi0 = computePI(PD, homDim = 0, xSeq = xSeqH0, ySeq = ySeqH0, sigma = sigma)\n",
    "pi0_R = np.loadtxt(\"../R/pi_0.csv\", skiprows=1)\n",
    "print(0, np.allclose(pi0, pi0_R))\n",
    "\n",
    "sigma = 0.5*(maxPH1-minPH1)/resP\n",
    "pi1 = computePI(PD, homDim = 1, xSeq = xSeqH1, ySeq = ySeqH1, sigma = sigma)\n",
    "pi1_R = np.loadtxt(\"../R/pi_1.csv\", skiprows=1)\n",
    "print(1, np.allclose(pi1, pi1_R))\n"
   ]
  },
  {
   "cell_type": "markdown",
   "metadata": {},
   "source": [
    "## Others"
   ]
  },
  {
   "cell_type": "code",
   "execution_count": 8,
   "metadata": {},
   "outputs": [],
   "source": [
    "scaleSeq = np.linspace(0, 2, 11)\n",
    "# universal function for comparison\n",
    "def compareResults(func, R_prefix, maxDim = 1, D=D, scaleSeq = scaleSeq, atol = 1e-7):\n",
    "    print(f\"Comparing compute{R_prefix.upper()}:\")\n",
    "    # for each of the dims\n",
    "    for d in range(maxDim+1):\n",
    "        # calc python result\n",
    "        pyth = func(D, d, scaleSeq)\n",
    "        # read R result\n",
    "        R = np.loadtxt(f\"../R/{R_prefix}_{d}.csv\", skiprows=1)\n",
    "        # report if they are equal\n",
    "        cond = np.allclose(pyth, R, atol=atol)\n",
    "        print(\"\\t dim=\", d, \":\", cond)\n",
    "        assert cond\n",
    "        \n"
   ]
  },
  {
   "cell_type": "code",
   "execution_count": 9,
   "metadata": {},
   "outputs": [
    {
     "name": "stdout",
     "output_type": "stream",
     "text": [
      "Comparing computePL:\n",
      "\t dim= 0 : True\n",
      "\t dim= 1 : True\n",
      "Comparing computePS:\n",
      "\t dim= 0 : True\n",
      "\t dim= 1 : True\n",
      "Comparing computeNL:\n",
      "\t dim= 0 : True\n",
      "\t dim= 1 : True\n",
      "Comparing computeVAB:\n",
      "\t dim= 0 : True\n",
      "\t dim= 1 : True\n",
      "Comparing computeECC:\n",
      "\t dim= 0 : True\n",
      "\t dim= 1 : True\n",
      "Comparing computePES:\n",
      "\t dim= 0 : True\n",
      "\t dim= 1 : True\n"
     ]
    }
   ],
   "source": [
    "testDict = {\"pl\":computePL, \"ps\":computePS, \"nl\":computeNL, \"vab\":computeVAB, \"ecc\":computeECC, \"pes\": computePES}\n",
    "for p in testDict.keys():\n",
    "    compareResults(testDict[p], p)"
   ]
  }
 ],
 "metadata": {
  "kernelspec": {
   "display_name": ".venv",
   "language": "python",
   "name": "python3"
  },
  "language_info": {
   "codemirror_mode": {
    "name": "ipython",
    "version": 3
   },
   "file_extension": ".py",
   "mimetype": "text/x-python",
   "name": "python",
   "nbconvert_exporter": "python",
   "pygments_lexer": "ipython3",
   "version": "3.11.9"
  }
 },
 "nbformat": 4,
 "nbformat_minor": 2
}
