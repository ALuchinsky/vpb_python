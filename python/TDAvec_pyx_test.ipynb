{
 "cells": [
  {
   "cell_type": "markdown",
   "metadata": {},
   "source": [
    "This notebook uses compiled version of the computeVPB function. To compile it run the command\n",
    "\n",
    "    python setup.py build_ext --inplace\n",
    "\n",
    "from the `python/` directory"
   ]
  },
  {
   "cell_type": "markdown",
   "metadata": {},
   "source": [
    "See https://cython.readthedocs.io/en/latest/src/tutorial/cython_tutorial.html for some basic tutorial"
   ]
  },
  {
   "cell_type": "code",
   "execution_count": 1,
   "metadata": {},
   "outputs": [],
   "source": [
    "import numpy as np\n",
    "import pandas as pd\n",
    "import matplotlib.pyplot as plt\n",
    "from matplotlib.patches import Rectangle\n",
    "import ripser\n",
    "import persim\n"
   ]
  },
  {
   "cell_type": "code",
   "execution_count": 2,
   "metadata": {},
   "outputs": [],
   "source": [
    "import TDAvec\n",
    "from TDAvec import pmin, pmax, DiagToPD, \\\n",
    "    computeVPB, computePL, computePS, computeNL, computeVAB, computeECC, computePES"
   ]
  },
  {
   "cell_type": "code",
   "execution_count": 3,
   "metadata": {},
   "outputs": [],
   "source": [
    "X = np.loadtxt(\"../R/unitCircle.csv\", skiprows=1, delimiter=\",\")\n",
    "D = ripser.ripser(X, thresh=2)[\"dgms\"]\n",
    "D[0][-1, 1] = 2\n"
   ]
  },
  {
   "cell_type": "markdown",
   "metadata": {},
   "source": [
    "## computeVPB"
   ]
  },
  {
   "cell_type": "code",
   "execution_count": 4,
   "metadata": {},
   "outputs": [
    {
     "name": "stdout",
     "output_type": "stream",
     "text": [
      "True\n",
      "True\n"
     ]
    }
   ],
   "source": [
    "PD = DiagToPD(D)\n",
    "ySeqH0 = np.quantile(PD[0][1], np.arange(0, 1.1, 0.2))\n",
    "xSeqH1 = np.quantile(PD[1][0], np.arange(0, 1.1, 0.2))\n",
    "ySeqH1 = np.quantile(PD[1][1], np.arange(0, 1.1, 0.2))\n",
    "\n",
    "vpb0 = computeVPB(PD, homDim=0, xSeq=[], ySeq=ySeqH0)\n",
    "print(np.allclose(\n",
    "    vpb0, \n",
    "    np.loadtxt(\"../R/vpb_0.csv\", skiprows=1)\n",
    "    ))\n",
    "vpb1 = computeVPB(PD, homDim = 1, xSeq=xSeqH1, ySeq=ySeqH1)\n",
    "vpb1 = np.transpose(vpb1).reshape( (25,))\n",
    "print(np.allclose(\n",
    "    vpb1, \n",
    "    np.loadtxt(\"../R/vpb_1.csv\", skiprows=1)\n",
    "    , atol=1e-7))\n"
   ]
  },
  {
   "cell_type": "markdown",
   "metadata": {},
   "source": [
    "## computePI"
   ]
  },
  {
   "cell_type": "code",
   "execution_count": 5,
   "metadata": {},
   "outputs": [
    {
     "data": {
      "text/plain": [
       "array([ 4,  8, 12,  5, 10, 15])"
      ]
     },
     "execution_count": 5,
     "metadata": {},
     "output_type": "execute_result"
    }
   ],
   "source": [
    "from scipy.stats import norm\n",
    "def pnorm(x, mean, sd):\n",
    "    return norm.cdf(x, mean, sd)\n",
    "\n",
    "def outer(x, y):\n",
    "    return np.array([x_*y_ for y_ in y for x_ in x])\n",
    "outer([1,2,3], [4,5])"
   ]
  },
  {
   "cell_type": "code",
   "execution_count": null,
   "metadata": {},
   "outputs": [],
   "source": []
  },
  {
   "cell_type": "code",
   "execution_count": 6,
   "metadata": {},
   "outputs": [],
   "source": [
    "def PSurfaceH0(point, y_lower, y_upper, sigma, maxP):\n",
    "    y = point[1]\n",
    "    out2 = pnorm(y_upper, y, sigma) - pnorm(y_lower, y, sigma)\n",
    "    wgt = y/maxP if y<maxP else 1\n",
    "    return wgt*out2\n",
    "def PSurfaceHk(point, y_lower, y_upper, x_lower, x_upper, sigma, maxP):\n",
    "    x, y = point[0], point[1]\n",
    "    out1 = pnorm(x_upper,x,sigma) - pnorm(x_lower,x,sigma)\n",
    "    out2 = pnorm(y_upper,y,sigma) - pnorm(y_lower,y,sigma)\n",
    "    wgt = y/maxP if y<maxP else 1\n",
    "    return wgt*outer(out1, out2)"
   ]
  },
  {
   "cell_type": "code",
   "execution_count": 7,
   "metadata": {},
   "outputs": [],
   "source": [
    "def computePI(PD, homDim, xSeq, ySeq, sigma):\n",
    "    D_ = np.transpose(PD[homDim])\n",
    "    n_rows = D_.shape[0]\n",
    "\n",
    "    resB = len(xSeq) - 1\n",
    "    resP = len(ySeq)-1\n",
    "    minP, maxP = ySeq[0], ySeq[-1]\n",
    "    dy = (maxP-minP)/resP\n",
    "    y_lower = np.arange(minP, maxP, dy)\n",
    "    y_upper = y_lower + dy\n",
    "\n",
    "    nSize = resP if homDim == 0 else resP*resB\n",
    "    Psurf_mat = np.zeros( (nSize, n_rows))\n",
    "    if homDim==0:\n",
    "        for i in range(n_rows):\n",
    "            Psurf_mat[:, i] = PSurfaceH0(D_[i, :], y_lower, y_upper, sigma, maxP)\n",
    "    else:\n",
    "        minB, maxB = xSeq[0], xSeq[-1]\n",
    "        dx = (maxB-minB)/resB\n",
    "        x_lower = np.arange(minB, maxB, dx)\n",
    "        x_upper = x_lower + dx\n",
    "        for i in range(n_rows):\n",
    "            Psurf_mat[:, i] = PSurfaceHk(D_[i, :], y_lower, y_upper, x_lower, x_upper, sigma, maxP)\n",
    "    out = np.sum(Psurf_mat, axis = 1)\n",
    "    return out\n"
   ]
  },
  {
   "cell_type": "code",
   "execution_count": 12,
   "metadata": {},
   "outputs": [
    {
     "name": "stdout",
     "output_type": "stream",
     "text": [
      "0 True\n",
      "1 True\n"
     ]
    }
   ],
   "source": [
    "resB, resP = 5, 5\n",
    "#\n",
    "minPH0, maxPH0 = np.min(PD[0][1,:]), np.max(PD[0][1,:])\n",
    "ySeqH0 = np.linspace(minPH0, maxPH0, resP+1)\n",
    "xSeqH0 = np.zeros( resB+1)\n",
    "\n",
    "minBH1, maxBH1 = np.min(PD[1][0,:]), np.max(PD[1][0,:])\n",
    "xSeqH1 = np.linspace(minBH1, maxBH1, resB+1)\n",
    "minPH1, maxPH1 = np.min(PD[1][1,:]), np.max(PD[1][1,:])\n",
    "ySeqH1 = np.linspace(minPH1, maxPH1, resP+1)\n",
    "\n",
    "sigma = 0.5*(maxPH0-minPH0)/resP\n",
    "pi0 = computePI(PD, homDim = 0, xSeq = xSeqH0, ySeq = ySeqH0, sigma = sigma)\n",
    "pi0_R = np.loadtxt(\"../R/pi_0.csv\", skiprows=1)\n",
    "print(0, np.allclose(pi0, pi0_R))\n",
    "\n",
    "sigma = 0.5*(maxPH1-minPH1)/resP\n",
    "pi1 = computePI(PD, homDim = 1, xSeq = xSeqH1, ySeq = ySeqH1, sigma = sigma)\n",
    "pi1_R = np.loadtxt(\"../R/pi_1.csv\", skiprows=1)\n",
    "print(1, np.allclose(pi1, pi1_R))\n"
   ]
  },
  {
   "cell_type": "code",
   "execution_count": null,
   "metadata": {},
   "outputs": [
    {
     "data": {
      "text/plain": [
       "array([[0.44604498, 0.40888548],\n",
       "       [0.01355717, 0.86032665]])"
      ]
     },
     "execution_count": 145,
     "metadata": {},
     "output_type": "execute_result"
    }
   ],
   "source": [
    "PD[1]"
   ]
  },
  {
   "cell_type": "code",
   "execution_count": null,
   "metadata": {},
   "outputs": [
    {
     "data": {
      "text/plain": [
       "<matplotlib.legend.Legend at 0x13aeff790>"
      ]
     },
     "execution_count": 125,
     "metadata": {},
     "output_type": "execute_result"
    },
    {
     "data": {
      "image/png": "[encoded data removed]",
      "text/plain": [
       "<Figure size 640x480 with 1 Axes>"
      ]
     },
     "metadata": {},
     "output_type": "display_data"
    }
   ],
   "source": [
    "pi1_R = np.loadtxt(\"../R/pi_1.csv\", skiprows=1)\n",
    "plt.plot(pi1, label = \"Py\")\n",
    "plt.plot(pi1_R, label = \"R\")\n",
    "plt.legend()"
   ]
  },
  {
   "cell_type": "code",
   "execution_count": null,
   "metadata": {},
   "outputs": [],
   "source": [
    "\n",
    "homDim = 0\n",
    "ySeq = ySeqH0\n",
    "D_ = np.transpose(PD[0])\n",
    "n_rows = D_.shape[0]\n",
    "\n",
    "resP = len(ySeq)-1\n",
    "minP = ySeq[0]\n",
    "maxP = ySeq[-1]\n",
    "dy = (maxP-minP)/resP\n",
    "y_lower = np.arange(minP, maxP, dy)\n",
    "y_upper = y_lower + dy\n",
    "\n",
    "nSize = resP if homDim == 0 else resP*resB\n",
    "Psurf_mat = np.zeros( (nSize, n_rows))\n",
    "for i in range(n_rows):\n",
    "    Psurf_mat[:, i] = PSurfaceH0(D_[i, :], y_lower, y_upper, sigma, maxP)\n",
    "out = np.sum(Psurf_mat, axis = 1)\n",
    "np.allclose(out, np.loadtxt(\"../R/pi_0.csv\", skiprows=1))\n"
   ]
  },
  {
   "cell_type": "code",
   "execution_count": null,
   "metadata": {},
   "outputs": [],
   "source": []
  },
  {
   "cell_type": "markdown",
   "metadata": {},
   "source": [
    "## Others"
   ]
  },
  {
   "cell_type": "code",
   "execution_count": null,
   "metadata": {},
   "outputs": [],
   "source": [
    "scaleSeq = np.linspace(0, 2, 11)\n",
    "# universal function for comparison\n",
    "def compareResults(func, R_prefix, maxDim = 1, D=D, scaleSeq = scaleSeq, atol = 1e-7):\n",
    "    print(f\"Comparing compute{R_prefix.upper()}:\")\n",
    "    # for each of the dims\n",
    "    for d in range(maxDim+1):\n",
    "        # calc python result\n",
    "        pyth = func(D, d, scaleSeq)\n",
    "        # read R result\n",
    "        R = np.loadtxt(f\"../R/{R_prefix}_{d}.csv\", skiprows=1)\n",
    "        # report if they are equal\n",
    "        print(\"\\t dim=\", d, \":\", np.allclose(pyth, R, atol=atol))\n"
   ]
  },
  {
   "cell_type": "code",
   "execution_count": null,
   "metadata": {},
   "outputs": [
    {
     "name": "stdout",
     "output_type": "stream",
     "text": [
      "Comparing computePL:\n",
      "\t dim= 0 : True\n",
      "\t dim= 1 : True\n",
      "Comparing computePS:\n",
      "\t dim= 0 : True\n",
      "\t dim= 1 : True\n",
      "Comparing computeNL:\n",
      "\t dim= 0 : True\n",
      "\t dim= 1 : True\n",
      "Comparing computeVAB:\n",
      "\t dim= 0 : True\n",
      "\t dim= 1 : True\n",
      "Comparing computeECC:\n",
      "\t dim= 0 : True\n",
      "\t dim= 1 : True\n",
      "Comparing computePES:\n",
      "\t dim= 0 : True\n",
      "\t dim= 1 : True\n"
     ]
    }
   ],
   "source": [
    "testDict = {\"pl\":computePL, \"ps\":computePS, \"nl\":computeNL, \"vab\":computeVAB, \"ecc\":computeECC, \"pes\": computePES}\n",
    "for p in testDict.keys():\n",
    "    compareResults(testDict[p], p)"
   ]
  }
 ],
 "metadata": {
  "kernelspec": {
   "display_name": ".venv",
   "language": "python",
   "name": "python3"
  },
  "language_info": {
   "codemirror_mode": {
    "name": "ipython",
    "version": 3
   },
   "file_extension": ".py",
   "mimetype": "text/x-python",
   "name": "python",
   "nbconvert_exporter": "python",
   "pygments_lexer": "ipython3",
   "version": "3.11.7"
  }
 },
 "nbformat": 4,
 "nbformat_minor": 2
}
