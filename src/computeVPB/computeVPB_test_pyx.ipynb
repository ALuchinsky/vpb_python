{
 "cells": [
  {
   "cell_type": "markdown",
   "metadata": {},
   "source": [
    "This notebook uses compiled version of the computeVPB function. To compile it run the command\n",
    "\n",
    "    python setup.py build_ext --inplace\n",
    "\n",
    "from the `python/` directory"
   ]
  },
  {
   "cell_type": "markdown",
   "metadata": {},
   "source": [
    "See https://cython.readthedocs.io/en/latest/src/tutorial/cython_tutorial.html for some basic tutorial"
   ]
  },
  {
   "cell_type": "code",
   "execution_count": 1,
   "metadata": {},
   "outputs": [],
   "source": [
    "import numpy as np\n",
    "import pandas as pd\n",
    "import matplotlib.pyplot as plt\n",
    "from matplotlib.patches import Rectangle\n",
    "import ripser\n",
    "import persim\n"
   ]
  },
  {
   "cell_type": "code",
   "execution_count": 2,
   "metadata": {},
   "outputs": [],
   "source": [
    "import computeVPB\n",
    "from computeVPB import DiagToPD, computeVPB"
   ]
  },
  {
   "cell_type": "code",
   "execution_count": 3,
   "metadata": {},
   "outputs": [],
   "source": [
    "X = np.loadtxt(\"./unitCircle.csv\", skiprows=1, delimiter=\",\")\n",
    "D = ripser.ripser(X, thresh=2)[\"dgms\"]\n",
    "D[0][-1, 1] = 2\n"
   ]
  },
  {
   "cell_type": "code",
   "execution_count": 7,
   "metadata": {},
   "outputs": [],
   "source": [
    "PD = DiagToPD(D)\n",
    "ySeqH0 = np.quantile(PD[0][1], np.arange(0, 1.1, 0.2))\n",
    "xSeqH1 = np.quantile(PD[1][0], np.arange(0, 1.1, 0.2))\n",
    "ySeqH1 = np.quantile(PD[1][1], np.arange(0, 1.1, 0.2))\n",
    "\n",
    "vpb0 = computeVPB(PD, homDim=0, xSeq=[], ySeq=ySeqH0)\n",
    "vpb0_R = np.loadtxt(\"./vpb0.csv\", delimiter=\",\", skiprows=1)\n",
    "vpb1 = computeVPB(PD, homDim = 1, xSeq=xSeqH1, ySeq=ySeqH1)\n",
    "vpb1_R = np.loadtxt(\"./vpb1.csv\", delimiter=\",\", skiprows=1)"
   ]
  },
  {
   "cell_type": "code",
   "execution_count": 8,
   "metadata": {},
   "outputs": [
    {
     "name": "stdout",
     "output_type": "stream",
     "text": [
      "4.035876077779221e-08\n"
     ]
    }
   ],
   "source": [
    "print(max(abs(vpb0 - vpb0_R)))"
   ]
  },
  {
   "cell_type": "code",
   "execution_count": 9,
   "metadata": {},
   "outputs": [
    {
     "name": "stdout",
     "output_type": "stream",
     "text": [
      "1.4910145013091736e-07\n"
     ]
    }
   ],
   "source": [
    "vpb_ = np.transpose(vpb1).reshape( (25,))\n",
    "print(max(abs(vpb_ - vpb1_R)))"
   ]
  }
 ],
 "metadata": {
  "kernelspec": {
   "display_name": ".venv",
   "language": "python",
   "name": "python3"
  },
  "language_info": {
   "codemirror_mode": {
    "name": "ipython",
    "version": 3
   },
   "file_extension": ".py",
   "mimetype": "text/x-python",
   "name": "python",
   "nbconvert_exporter": "python",
   "pygments_lexer": "ipython3",
   "version": "3.11.7"
  }
 },
 "nbformat": 4,
 "nbformat_minor": 2
}
